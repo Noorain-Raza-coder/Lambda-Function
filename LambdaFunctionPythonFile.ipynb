{
 "cells": [
  {
   "cell_type": "markdown",
   "id": "c65bd1a4",
   "metadata": {},
   "source": [
    "## Lambda function"
   ]
  },
  {
   "cell_type": "markdown",
   "id": "c82d0300",
   "metadata": {},
   "source": [
    "### 1.\tWrite a  Python program to create a lambda function that adds 15 to a given number passed in as an argument."
   ]
  },
  {
   "cell_type": "markdown",
   "id": "1c8dffed",
   "metadata": {},
   "source": [
    "### 2.\tCreate a lambda function that multiplies argument x with argument y and prints the result."
   ]
  },
  {
   "cell_type": "markdown",
   "id": "70747c5c",
   "metadata": {},
   "source": [
    "### 3.\tWrite a  Python program that multiplies each number in a list with a given number using lambda functions. Print the results.\n",
    "Original list: [2, 4, 6, 9, 11]\n",
    "Given number: 2\n",
    "Result:\n",
    "4 8 12 18 22"
   ]
  },
  {
   "cell_type": "markdown",
   "id": "a3f7e520",
   "metadata": {},
   "source": [
    "### 4.\tWrite a  Python program to find if a given string starts with a given character using Lambda.\n",
    "Sample Output:\n",
    "True\n",
    "False"
   ]
  },
  {
   "cell_type": "markdown",
   "id": "9d1db356",
   "metadata": {},
   "source": [
    "### 5.\tWrite a  Python program to check whether a given string is a number or not using Lambda.\n",
    "Sample Output:\n",
    "True\n",
    "True\n",
    "False\n",
    "True\n",
    "False\n",
    "True\n",
    "Print checking numbers:\n",
    "True\n",
    "True"
   ]
  },
  {
   "cell_type": "markdown",
   "id": "5f33b4c2",
   "metadata": {},
   "source": [
    "### 6.\tWrite a  Python program to find the intersection of two given arrays using Lambda.\n",
    "Original arrays:\n",
    "[1, 2, 3, 5, 7, 8, 9, 10]\n",
    "[1, 2, 4, 8, 9]\n",
    "Intersection of the said arrays: [1, 2, 8, 9]"
   ]
  },
  {
   "cell_type": "markdown",
   "id": "5dc6882a",
   "metadata": {},
   "source": [
    "### 7.\tWrite a  Python program to find numbers divisible by nineteen or thirteen from a list of numbers using Lambda.\n",
    "Orginal list:\n",
    "[19, 65, 57, 39, 152, 639, 121, 44, 90, 190]\n",
    "Numbers of the above list divisible by nineteen or thirteen:\n",
    "[19, 65, 57, 39, 152, 190]"
   ]
  },
  {
   "cell_type": "markdown",
   "id": "86204f68",
   "metadata": {},
   "source": [
    "### 8.\tWrite a  Python program to find palindromes in a given list of strings using Lambda.\n",
    "Orginal list of strings:\n",
    "['php', 'w3r', 'Python', 'abcd', 'Java', 'aaa']\n",
    "List of palindromes:\n",
    "['php', 'aaa']"
   ]
  },
  {
   "cell_type": "markdown",
   "id": "df9ea9c8",
   "metadata": {},
   "source": [
    "### 9.\tWrite a Python program to find all anagrams of a string in a given list of strings using Lambda.\n",
    "Orginal list of strings:\n",
    "['bcda', 'abce', 'cbda', 'cbea', 'adcb']\n",
    "Anagrams of 'abcd' in the above string:\n",
    "['bcda', 'cbda', 'adcb']"
   ]
  },
  {
   "cell_type": "markdown",
   "id": "5e1a2008",
   "metadata": {},
   "source": [
    "### 10.\tWrite a  Python program to check whether a specified list is sorted or not using lambda.\n",
    "Original list:\n",
    "[1, 2, 4, 6, 8, 10, 12, 14, 16, 17]\n",
    "Is the said list is sorted!\n",
    "True\n",
    "Original list:\n",
    "[1, 2, 4, 6, 8, 10, 12, 14, 16, 17]\n",
    "Is the said list is sorted!\n",
    "False"
   ]
  },
  {
   "cell_type": "markdown",
   "id": "53d13397",
   "metadata": {},
   "source": [
    "###  11.\tWrite a  Python program to extract a specified size of strings from a given list of string values using lambda.\n",
    "Original list:\n",
    "[' Python', 'list', 'exercises', 'practice', 'solution']\n",
    "length of the string to extract:\n",
    "8\n",
    "After extracting strings of specified length from the said list:\n",
    "['practice', 'solution']"
   ]
  },
  {
   "cell_type": "markdown",
   "id": "691c4e2a",
   "metadata": {},
   "source": [
    "### 12.\tWrite a Python program to remove None values from a given list using the lambda function.\n",
    "Original list:\n",
    "[12, 0, None, 23, None, -55, 234, 89, None, 0, 6, -12]\n",
    "Remove None value from the said list:\n",
    "[12, 0, 23, -55, 234, 89, 0, 6, -12]"
   ]
  },
  {
   "cell_type": "markdown",
   "id": "ee00f24b",
   "metadata": {},
   "source": [
    "### 13.\tWrite a Python program to create Fibonacci series up to n using Lambda.\n",
    "Fibonacci series upto 2:\n",
    "[0, 1]\n",
    "Fibonacci series upto 5:\n",
    "[0, 1, 1, 2, 3]\n",
    "Fibonacci series upto 6:\n",
    "[0, 1, 1, 2, 3, 5]\n",
    "Fibonacci series upto 9:\n",
    "[0, 1, 1, 2, 3, 5, 8, 13, 21]"
   ]
  },
  {
   "cell_type": "markdown",
   "id": "7e148812",
   "metadata": {},
   "source": [
    "### 14.\tWrite a Python program to count the even and odd numbers in a given array of integers using Lambda.\n",
    "Original arrays:\n",
    "[1, 2, 3, 5, 7, 8, 9, 10]\n",
    "Number of even numbers in the above array: 3\n",
    "Number of odd numbers in the above array: 5"
   ]
  },
  {
   "cell_type": "markdown",
   "id": "8ba78af2",
   "metadata": {},
   "source": [
    "### 15.\tWrite a Python program to find a list with maximum length using lambda.\n",
    "Original list:\n",
    "[[0], [1, 3], [5, 7], [9, 11], [13, 15, 17]]\n",
    "List with maximum length of lists:\n",
    "(3, [13, 15, 17])"
   ]
  },
  {
   "cell_type": "markdown",
   "id": "d83f677b",
   "metadata": {},
   "source": [
    "### 16.\tWrite a  Python program to reverse strings in a given list of string values using lambda.\n",
    "Original lists:\n",
    "['Red', 'Green', 'Blue', 'White', 'Black']\n",
    "Reverse strings of the said given list:\n",
    "['deR', 'neerG', 'eulB', 'etihW', 'kcalB']"
   ]
  },
  {
   "cell_type": "markdown",
   "id": "92bc6f86",
   "metadata": {},
   "source": [
    "Good questions / important questions : "
   ]
  },
  {
   "cell_type": "markdown",
   "id": "cd7dae40",
   "metadata": {},
   "source": [
    "### 17.\tWrite a Python program to sort a list of tuples based on numbers using Lambda.\n",
    "Original list of tuples:\n",
    "[('English', 88), ('Science', 90), ('Maths', 97), ('Social sciences', 82)]\n",
    "Sorting the List of Tuples:\n",
    "[('Social sciences', 82), ('English', 88), ('Science', 90), ('Maths', 97)]"
   ]
  },
  {
   "cell_type": "markdown",
   "id": "caeb0bb4",
   "metadata": {},
   "source": [
    "### 18.\tWrite a  Python program to sort a list of dictionaries using Lambda.\n",
    "Original list of dictionaries :\n",
    "[{'make': 'Nokia', 'model': 216, 'color': 'Black'}, {'make': 'Mi Max', 'model': '2', 'color': 'Gold'}, {'make': 'Samsung', 'model': 7, 'color': 'Blue'}]\n",
    "Sorting the List of dictionaries :\n",
    "[{'make': 'Nokia', 'model': 216, 'color': 'Black'}, {'make': 'Samsung', 'model': 7, 'color': 'Blue'}, {'make': 'Mi Max', 'model': '2', 'color': 'Gold'}]"
   ]
  },
  {
   "cell_type": "markdown",
   "id": "a64f7e27",
   "metadata": {},
   "source": [
    "### 19.\tWrite a  Python program to sort each sublist of strings in a given list of lists using lambda.\n",
    "Original list:\n",
    "[['green', 'orange'], ['black', 'white'], ['white', 'black', 'orange']]\n",
    "After sorting each sublist of the said list of lists:\n",
    "[['green', 'orange'], ['black', 'white'], ['black', 'orange', 'white']]"
   ]
  },
  {
   "cell_type": "markdown",
   "id": "8c9c0163",
   "metadata": {},
   "source": [
    "### 20.\tWrite a  Python program to sort a given list of lists by length and value using lambda.\n",
    "Original list:\n",
    "[[2], [0], [1, 3], [0, 7], [9, 11], [13, 15, 17]]\n",
    "Sort the list of lists by length and value:\n",
    "[[0], [2], [0, 7], [1, 3], [9, 11], [13, 15, 17]]"
   ]
  },
  {
   "cell_type": "markdown",
   "id": "979728eb",
   "metadata": {},
   "source": [
    "### 21.\tWrite a Python program to sort a given matrix in ascending order according to the sum of its rows using lambda.\n",
    "Original Matrix:\n",
    "[[1, 2, 3], [2, 4, 5], [1, 1, 1]]\n",
    "Sort the said matrix in ascending order according to the sum of its rows\n",
    "[[1, 1, 1], [1, 2, 3], [2, 4, 5]]\n",
    "Original Matrix:\n",
    "[[1, 2, 3], [-2, 4, -5], [1, -1, 1]]\n",
    "Sort the said matrix in ascending order according to the sum of its rows\n",
    "[[-2, 4, -5], [1, -1, 1], [1, 2, 3]]"
   ]
  },
  {
   "cell_type": "markdown",
   "id": "f403830c",
   "metadata": {},
   "source": [
    "### 22.\tWrite a  Python program to sort a list of lists by a given index of the inner list using lambda.\n",
    "Original list:\n",
    "[('Greyson Fulton', 98, 99), ('Brady Kent', 97, 96), ('Wyatt Knott', 91, 94), ('Beau Turnbull', 94, 98)]\n",
    "Sort the said list of lists by a given index ( Index = 0 ) of the inner list\n",
    "[('Beau Turnbull', 94, 98), ('Brady Kent', 97, 96), ('Greyson Fulton', 98, 99), ('Wyatt Knott', 91, 94)]\n",
    "Sort the said list of lists by a given index ( Index = 2 ) of the inner list\n",
    "[('Wyatt Knott', 91, 94), ('Brady Kent', 97, 96), ('Beau Turnbull', 94, 98), ('Greyson Fulton', 98, 99)]"
   ]
  }
 ],
 "metadata": {
  "kernelspec": {
   "display_name": "Python 3 (ipykernel)",
   "language": "python",
   "name": "python3"
  },
  "language_info": {
   "codemirror_mode": {
    "name": "ipython",
    "version": 3
   },
   "file_extension": ".py",
   "mimetype": "text/x-python",
   "name": "python",
   "nbconvert_exporter": "python",
   "pygments_lexer": "ipython3",
   "version": "3.9.12"
  }
 },
 "nbformat": 4,
 "nbformat_minor": 5
}
